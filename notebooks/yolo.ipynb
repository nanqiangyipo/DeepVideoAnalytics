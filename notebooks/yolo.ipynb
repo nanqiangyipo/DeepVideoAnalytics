{
 "cells": [
  {
   "cell_type": "markdown",
   "metadata": {},
   "source": [
    "<center><h1>Train & share YOLO detectors using Deep Video Analytics and Keras</h3></center>"
   ]
  },
  {
   "cell_type": "markdown",
   "metadata": {},
   "source": [
    "### The YOLO  implementation is adopted from [Yet Another Darknet to Keras](https://github.com/allanzelener/YAD2K)  itself adapted from [Darknet](pjreddie.com/darknet/yolo/)\n",
    "\n",
    "The code in this notebook is to show how Deep Video Analytics implments YOLO training internally. While you can train models without writing any code and through DVA UI, being able to know how training happens internally will let you modify and inspect it. "
   ]
  },
  {
   "cell_type": "markdown",
   "metadata": {},
   "source": [
    "### Running code in this notebook"
   ]
  },
  {
   "cell_type": "markdown",
   "metadata": {},
   "source": [
    "This notebook must be run inside a running dva-server container. Start container using    \n",
    "`docker-compose up`   \n",
    "(or the GPU command) \n",
    "\n",
    "followed by   \n",
    "`./shell.sh`   \n",
    "to enter the container\n",
    "\n",
    "Once inside the container install jupyter and start it using   \n",
    "` pip install --upgrade jupyter && jupyter notebook --allow-root `\n",
    "\n",
    "** If you encounter any errors, upgrade pip inside using `pip install --upgrade pip && exit`    \n",
    "and log back in using `./shell.sh` and run jupyter installation & server command **\n",
    "\n",
    "Once jupyter notebook server is running go to the URL (similar to http://localhost:8888/?token=example ) in your browser. Navigate to notebook folder and open yolo notebook."
   ]
  },
  {
   "cell_type": "code",
   "execution_count": 2,
   "metadata": {
    "collapsed": true
   },
   "outputs": [],
   "source": [
    "import sys\n",
    "sys.path.append('../')"
   ]
  },
  {
   "cell_type": "markdown",
   "metadata": {},
   "source": [
    "### Importing Visual Genome license plate subset from VDN\n",
    "\n",
    "In this tutorial we will be fine-tuning the MSCOCO trained detector for detecting license plates."
   ]
  },
  {
   "cell_type": "code",
   "execution_count": null,
   "metadata": {
    "collapsed": true
   },
   "outputs": [],
   "source": []
  }
 ],
 "metadata": {
  "kernelspec": {
   "display_name": "Python 2",
   "language": "python",
   "name": "python2"
  },
  "language_info": {
   "codemirror_mode": {
    "name": "ipython",
    "version": 2
   },
   "file_extension": ".py",
   "mimetype": "text/x-python",
   "name": "python",
   "nbconvert_exporter": "python",
   "pygments_lexer": "ipython2",
   "version": "2.7.10"
  }
 },
 "nbformat": 4,
 "nbformat_minor": 1
}
