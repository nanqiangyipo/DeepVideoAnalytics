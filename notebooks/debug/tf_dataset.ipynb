{
 "cells": [
  {
   "cell_type": "code",
   "execution_count": 1,
   "metadata": {
    "collapsed": true
   },
   "outputs": [],
   "source": [
    "import tensorflow as tf\n",
    "from tensorflow.python.platform import gfile\n",
    "import numpy as np\n",
    "import glob"
   ]
  },
  {
   "cell_type": "code",
   "execution_count": 2,
   "metadata": {
    "collapsed": true
   },
   "outputs": [],
   "source": [
    "def _parse_function(filename):\n",
    "    image_string = tf.read_file(filename)\n",
    "    image_decoded = tf.image.decode_image(image_string)\n",
    "    return image_decoded, filename\n",
    "\n",
    "filenames_placeholder = tf.placeholder(\"string\")"
   ]
  },
  {
   "cell_type": "code",
   "execution_count": 3,
   "metadata": {
    "collapsed": false
   },
   "outputs": [],
   "source": [
    "dataset = tf.contrib.data.Dataset.from_tensor_slices(filenames_placeholder)\n",
    "dataset = dataset.map(_parse_function)\n",
    "iterator = dataset.make_initializable_iterator()\n",
    "sess = tf.InteractiveSession()\n",
    "network_path = '/Users/aub3/Dropbox/DeepVideoAnalytics/dvalib/data/network.pb'\n",
    "with gfile.FastGFile(network_path, 'rb') as f:\n",
    "    graph_def = tf.GraphDef()\n",
    "    graph_def.ParseFromString(f.read())\n",
    "    image,fname = iterator.get_next()\n",
    "    _ = tf.import_graph_def(graph_def, name='incept',input_map={'DecodeJpeg': image})\n",
    "    pool3 = sess.graph.get_tensor_by_name('incept/pool_3:0')"
   ]
  },
  {
   "cell_type": "code",
   "execution_count": 8,
   "metadata": {
    "collapsed": false
   },
   "outputs": [
    {
     "name": "stdout",
     "output_type": "stream",
     "text": [
      "/Users/aub3/Dropbox/DeepVideoAnalytics/notebooks/OCR/images/example_1.jpg 0.30894\n",
      "/Users/aub3/Dropbox/DeepVideoAnalytics/notebooks/OCR/images/example_2.jpg 0.398937\n",
      "/Users/aub3/Dropbox/DeepVideoAnalytics/notebooks/OCR/images/example_3.jpg 0.320509\n"
     ]
    }
   ],
   "source": [
    "filenames = list(glob.glob('/Users/aub3/Dropbox/DeepVideoAnalytics/notebooks/OCR/images/*.jpg'))\n",
    "sess.run(iterator.initializer, feed_dict={filenames_placeholder: filenames})\n",
    "while True:\n",
    "    try:\n",
    "        f,emb = sess.run([fname,pool3])\n",
    "        print f,np.mean(emb)\n",
    "    except tf.errors.OutOfRangeError:\n",
    "        break"
   ]
  },
  {
   "cell_type": "code",
   "execution_count": 9,
   "metadata": {
    "collapsed": false
   },
   "outputs": [
    {
     "name": "stdout",
     "output_type": "stream",
     "text": [
      "/Users/aub3/Dropbox/DeepVideoAnalytics/notebooks/OCR/boxes/box_12.jpg 0.244069\n",
      "/Users/aub3/Dropbox/DeepVideoAnalytics/notebooks/OCR/boxes/box_13.jpg 0.257504\n",
      "/Users/aub3/Dropbox/DeepVideoAnalytics/notebooks/OCR/boxes/box_14.jpg 0.369199\n",
      "/Users/aub3/Dropbox/DeepVideoAnalytics/notebooks/OCR/boxes/box_15.jpg 0.273649\n",
      "/Users/aub3/Dropbox/DeepVideoAnalytics/notebooks/OCR/boxes/box_17.jpg 0.247307\n",
      "/Users/aub3/Dropbox/DeepVideoAnalytics/notebooks/OCR/boxes/box_18.jpg 0.242759\n",
      "/Users/aub3/Dropbox/DeepVideoAnalytics/notebooks/OCR/boxes/box_21.jpg 0.236354\n"
     ]
    }
   ],
   "source": [
    "filenames = list(glob.glob('/Users/aub3/Dropbox/DeepVideoAnalytics/notebooks/OCR/boxes/*.jpg'))\n",
    "sess.run(iterator.initializer, feed_dict={filenames_placeholder: filenames})\n",
    "while True:\n",
    "    try:\n",
    "        f,emb = sess.run([fname,pool3])\n",
    "        print f,np.mean(emb)\n",
    "    except tf.errors.OutOfRangeError:\n",
    "        break"
   ]
  },
  {
   "cell_type": "code",
   "execution_count": 10,
   "metadata": {
    "collapsed": false
   },
   "outputs": [
    {
     "name": "stdout",
     "output_type": "stream",
     "text": [
      "/Users/aub3/media/1/frames/0.jpg 0.265353\n",
      "/Users/aub3/media/1/frames/110.jpg 0.33515\n",
      "/Users/aub3/media/1/frames/120.jpg 0.346855\n",
      "/Users/aub3/media/1/frames/129.jpg 0.340541\n",
      "/Users/aub3/media/1/frames/150.jpg 0.290178\n",
      "/Users/aub3/media/1/frames/161.jpg 0.426418\n",
      "/Users/aub3/media/1/frames/22.jpg 0.356676\n",
      "/Users/aub3/media/1/frames/30.jpg 0.359423\n",
      "/Users/aub3/media/1/frames/48.jpg 0.281821\n",
      "/Users/aub3/media/1/frames/60.jpg 0.264485\n",
      "/Users/aub3/media/1/frames/88.jpg 0.328846\n",
      "/Users/aub3/media/1/frames/90.jpg 0.330749\n"
     ]
    }
   ],
   "source": [
    "filenames = list(glob.glob('/Users/aub3/media/1/frames/*.jpg'))\n",
    "sess.run(iterator.initializer, feed_dict={filenames_placeholder: filenames})\n",
    "while True:\n",
    "    try:\n",
    "        f,emb = sess.run([fname,pool3])\n",
    "        print f,np.mean(emb)\n",
    "    except tf.errors.OutOfRangeError:\n",
    "        break"
   ]
  },
  {
   "cell_type": "code",
   "execution_count": null,
   "metadata": {
    "collapsed": true
   },
   "outputs": [],
   "source": []
  }
 ],
 "metadata": {
  "kernelspec": {
   "display_name": "Python 2",
   "language": "python",
   "name": "python2"
  },
  "language_info": {
   "codemirror_mode": {
    "name": "ipython",
    "version": 2
   },
   "file_extension": ".py",
   "mimetype": "text/x-python",
   "name": "python",
   "nbconvert_exporter": "python",
   "pygments_lexer": "ipython2",
   "version": "2.7.10"
  }
 },
 "nbformat": 4,
 "nbformat_minor": 1
}
